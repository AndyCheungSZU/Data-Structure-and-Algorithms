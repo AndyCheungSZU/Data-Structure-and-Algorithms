{
 "cells": [
  {
   "cell_type": "code",
   "execution_count": 1,
   "metadata": {},
   "outputs": [],
   "source": [
    "import numpy as np\n",
    "import numbers\n",
    "import time\n",
    "from abc import ABCMeta, abstractmethod\n",
    "from typing import TypeVar, Union, Any\n",
    "from random import randint\n",
    "import matplotlib.pyplot as plt\n",
    "Num = TypeVar('Num', int, float)"
   ]
  },
  {
   "cell_type": "code",
   "execution_count": 2,
   "metadata": {},
   "outputs": [],
   "source": [
    "class CreditCard:\n",
    "    \"\"\"A consumer credit card\"\"\"\n",
    "    \n",
    "    def __init__(self, customer, bank, acnt, limit):\n",
    "        \"\"\"Create a new credit card instance.\n",
    "        \n",
    "        The initial balance is zero.\n",
    "        \n",
    "        :param customer: the name of the customer \n",
    "        :param bank: the name of the bank\n",
    "        :param acnt: the account identifier\n",
    "        :param limit: credit limit\n",
    "        \"\"\"\n",
    "        \n",
    "        self._customer = customer\n",
    "        self._bank = bank\n",
    "        self._account = acnt\n",
    "        self._limit = limit\n",
    "        self._balance = 0\n",
    "        \n",
    "    def get_customer(self):\n",
    "        \"\"\"Return name of the customer\"\"\"\n",
    "        return self._customer\n",
    "    \n",
    "    def get_bank(self):\n",
    "        \"\"\"Return the bank's name.\"\"\"\n",
    "        return self._bank\n",
    "    \n",
    "    def get_account(self):\n",
    "        \"\"\"Return the card identifying number (typically stored as a string.\"\"\"\n",
    "        return self._account\n",
    "    \n",
    "    def get_limit(self):\n",
    "        \"\"\"Return current credit limit.\"\"\"\n",
    "        return self._limit\n",
    "    \n",
    "    def get_balance(self):\n",
    "        \"\"\"Return current balance.\"\"\"\n",
    "        return self._balance\n",
    "    \n",
    "    def charge(self, price):\n",
    "        \"\"\"Charge given price to the card, assuming sufficient credit limit.\n",
    "        \n",
    "        Return True if charge was processed; False if charge was denied.\n",
    "        \"\"\"\n",
    "        \n",
    "        if price + self._balance > self._limit:\n",
    "            return False\n",
    "        else:\n",
    "            self._balance += price\n",
    "            return True\n",
    "    \n",
    "    def make_payment(self, amount):\n",
    "        \"\"\"Process customer payment that reduces balance.\"\"\"\n",
    "        self._balance -= amount "
   ]
  },
  {
   "cell_type": "markdown",
   "metadata": {},
   "source": [
    "Python interpreter automatically binds the instance upon which the method is invoked to the self parameter."
   ]
  },
  {
   "cell_type": "code",
   "execution_count": 3,
   "metadata": {},
   "outputs": [
    {
     "data": {
      "text/plain": [
       "1000"
      ]
     },
     "execution_count": 3,
     "metadata": {},
     "output_type": "execute_result"
    }
   ],
   "source": [
    "cc = CreditCard('John Doe', 'Bank', '1234 5678', 1000)\n",
    "cc.get_limit()"
   ]
  },
  {
   "cell_type": "markdown",
   "metadata": {},
   "source": [
    "In class, __init__ method works as the constructor of the class. Also, single leading underscore in the name of a data member, such as _balance, implies that it is intended as nonpublic. Users of a class should not directly access such members.\n",
    "\n",
    "For better encapsulation, it is mostly better to treat all data members as nonpublic and provide accessors, to provide a user of our class read-only access to a trait, and update methods for updating its memebers."
   ]
  },
  {
   "cell_type": "markdown",
   "metadata": {},
   "source": [
    "# Reinforcement"
   ]
  },
  {
   "cell_type": "markdown",
   "metadata": {},
   "source": [
    "### *R-2.4*\n",
    "Write a Python class, Flower, that has three instance variables of type str, int, and float, that respectively represent the name of the flower, its number of petals, and its price. Your class must include a constructor method that initializes each variable to an appropriate value, and your class should include methods for setting the value of each type, and retrieving the value of each type."
   ]
  },
  {
   "cell_type": "code",
   "execution_count": 4,
   "metadata": {},
   "outputs": [],
   "source": [
    "class Flower:\n",
    "    def __init__(self, name, n_petals, price):\n",
    "        self._name = name\n",
    "        self._n_petals = n_petals\n",
    "        self._price = price\n",
    "        \n",
    "    def get_name(self):\n",
    "        return self._name\n",
    "    \n",
    "    def set_name(self, name):\n",
    "        self._name = name\n",
    "        \n",
    "    def get_n_petals(self):\n",
    "        return self._n_petals\n",
    "    \n",
    "    def set_n_petals(self, n_petals):\n",
    "        self._n_petals = n_petals\n",
    "        \n",
    "    def get_price(self):\n",
    "        return self._price\n",
    "    \n",
    "    def set_price(self, price):\n",
    "        self._price = price"
   ]
  },
  {
   "cell_type": "markdown",
   "metadata": {},
   "source": [
    "### *R-2.5, 2.6, 2.7*\n",
    "R-2.5: Use the techniques of Section 1.7 to revise the charge and make payment methods of the CreditCard class to ensure that the caller sends a number as a parameter.\n",
    "\n",
    "R-2.6: If the parameter to the make payment method of the CreditCard class were a negative number, that would have the effect of raising the balance on the account. Revise the implementation so that it raises a ValueError if a negative value is sent.\n",
    "\n",
    "R-2.7: The CreditCard class of Section 2.3 initializes the balance of a new ac- count to zero. Modify that class so that a new account can be given a nonzero balance using an optional fifth parameter to the constructor. The four-parameter constructor syntax should continue to produce an account with zero balance."
   ]
  },
  {
   "cell_type": "code",
   "execution_count": 5,
   "metadata": {},
   "outputs": [],
   "source": [
    "class CreditCard:\n",
    "    def __init__(self, customer, bank, account, limit, balance=0):\n",
    "        self._customer = customer\n",
    "        self._bank = bank\n",
    "        self._account = account\n",
    "        self._limit = limit\n",
    "        self._balance = balance\n",
    "        \n",
    "    def charge(self, price):\n",
    "        '''Charge given price to the card, aasuming sufficient credit limit.\n",
    "        Return True if charge was processed; False if charge was denied'''\n",
    "        try:\n",
    "            assert isinstance(price, (int, float, complex))\n",
    "        except AssertionError:\n",
    "            print(\"The price must be a number!\")\n",
    "            #exit the function\n",
    "            return\n",
    "        \n",
    "        # if charge exceed limit\n",
    "        if price + self._balance > self._limit:\n",
    "            return False\n",
    "        else:\n",
    "            self._balance += price\n",
    "            return True\n",
    "        \n",
    "    def make_payment(self, amount):\n",
    "        try:\n",
    "            assert isinstance(amount, numbers.Number)\n",
    "        except AssertionError:\n",
    "            print('The amount must be a number!')\n",
    "            # exit the function\n",
    "            return\n",
    "        # is positive or not\n",
    "        if amount < 0:\n",
    "            raise ValueError('amount must be a positive number')\n",
    "        '''Process customer payment that reduces balance'''\n",
    "        self._balance -= amount"
   ]
  },
  {
   "cell_type": "markdown",
   "metadata": {},
   "source": [
    "### *R-2.9 -> R-2.15*"
   ]
  },
  {
   "cell_type": "code",
   "execution_count": 6,
   "metadata": {},
   "outputs": [],
   "source": [
    "class Vector:\n",
    "    def __init__(self, data):\n",
    "        if isinstance(data, int):\n",
    "            self._data = [0] * data\n",
    "            self._len = data\n",
    "        elif isinstance(data, list):\n",
    "            self._data = data\n",
    "            self._len = len(data)\n",
    "        else:\n",
    "            raise ValueError(\"Vector must be initialize by a int or a list.\")\n",
    "            \n",
    "            \n",
    "    def __repr__(self):\n",
    "        return repr(self._data).replace('[', '<').replace(']', '>')\n",
    "    \n",
    "    def __len__(self):\n",
    "        return self._len\n",
    "    \n",
    "    def __getitem__(self, index: int):\n",
    "        return self._data[index]\n",
    "    \n",
    "    def __setitem__(self, index: int, value: Num):\n",
    "        self._data[index] = value\n",
    "        \n",
    "    def __add__(self, v: 'Vector'):\n",
    "        '''\n",
    "        >>> v1 = Vector([1, 2, 3])\n",
    "        >>> v2 = Vector([1, 1, 1])\n",
    "        >>> v1 + v2\n",
    "        <2, 3, 4>\n",
    "        '''\n",
    "        assert len(self) == len(v)\n",
    "        result = Vector(self._len)\n",
    "        for i in range(len(self)):\n",
    "            result[i] = self._data[i] + v[i]\n",
    "        return result\n",
    "    \n",
    "    def __radd__(self, v: 'Vector'):\n",
    "        return self.__add__(v)\n",
    "    \n",
    "    def __sub__(self, v: 'Vector'):\n",
    "        \"\"\"\n",
    "        >>> v1 = Vector([1, 2, 3])\n",
    "        >>> v2 = Vector([1, 1, 1])\n",
    "        >>> v1 - v2\n",
    "        <0, 1, 2>\n",
    "        \"\"\"\n",
    "        assert len(self) == len(v)\n",
    "        result = Vector(self._len)\n",
    "        for i in range(len(self)):\n",
    "            result[i] = self._data[i] - v[i]\n",
    "        return result\n",
    "    \n",
    "    def __neg__(self):\n",
    "        \"\"\"\n",
    "        >>> -Vector([1, 2, 3])\n",
    "        <-1, -2, -3>\n",
    "        \"\"\"\n",
    "        result = Vector(self._len)\n",
    "        for index, value in enumerate(self._data):\n",
    "            result[index] = -value\n",
    "        return result\n",
    "    \n",
    "    def __mul__(self, factor: Union[int, 'Vector']):\n",
    "        \"\"\"multiply with an int or vector.\n",
    "        >>> v1 = Vector([1, 2, 3])\n",
    "        >>> v1 * 2\n",
    "        <2, 4, 6>\n",
    "        >>> 2 * v1\n",
    "        <2, 4, 6>\n",
    "        >>> v2 = Vector([1, 1, 1])\n",
    "        >>> v1 * v2\n",
    "        6\n",
    "        \"\"\"\n",
    "        if isinstance(factor, Vector):\n",
    "            assert len(self) == len(factor)\n",
    "            result = 0\n",
    "            for i in range(self._len):\n",
    "                result += self._data[i] * factor[i]\n",
    "            return result\n",
    "        else:\n",
    "            result = Vector(self._len)\n",
    "            for index, value in enumerate(self._data):\n",
    "                result[index] = factor * value\n",
    "            return result\n",
    "        \n",
    "    def __rmul__(self, factor: Union[int, 'Vector']):\n",
    "        return self.__mul__(factor)"
   ]
  },
  {
   "cell_type": "code",
   "execution_count": 7,
   "metadata": {},
   "outputs": [
    {
     "data": {
      "text/plain": [
       "<0, 0, 10, 0, 0>"
      ]
     },
     "execution_count": 7,
     "metadata": {},
     "output_type": "execute_result"
    }
   ],
   "source": [
    "x = Vector(5)\n",
    "x[2] = 10\n",
    "x"
   ]
  },
  {
   "cell_type": "code",
   "execution_count": 8,
   "metadata": {},
   "outputs": [
    {
     "data": {
      "text/plain": [
       "<0, 0, 20, 0, 0>"
      ]
     },
     "execution_count": 8,
     "metadata": {},
     "output_type": "execute_result"
    }
   ],
   "source": [
    "x + x"
   ]
  },
  {
   "cell_type": "code",
   "execution_count": 9,
   "metadata": {},
   "outputs": [
    {
     "data": {
      "text/plain": [
       "100"
      ]
     },
     "execution_count": 9,
     "metadata": {},
     "output_type": "execute_result"
    }
   ],
   "source": [
    "x * x"
   ]
  },
  {
   "cell_type": "markdown",
   "metadata": {},
   "source": [
    "### *R-2.18*\n",
    "Give a short fragment of Python code that uses the progression classes from Section 2.4.2 to find the 8 th value of a Fibonacci progression that starts with 2 and 2 as its first two values."
   ]
  },
  {
   "cell_type": "code",
   "execution_count": 10,
   "metadata": {},
   "outputs": [],
   "source": [
    "class Progression:\n",
    "    def __init__(self, start=0):\n",
    "        self._current = start\n",
    "        \n",
    "    def _advance(self):\n",
    "        self._current += 1\n",
    "        \n",
    "    def __next__(self):\n",
    "        if self._current is None:\n",
    "            raise StopIteration\n",
    "        else:\n",
    "            answer = self._current\n",
    "            self._advance()\n",
    "            return answer\n",
    "        \n",
    "    def __iter__(self):\n",
    "        return self\n",
    "    \n",
    "    def print_progression(self, n):\n",
    "        print(' '.join(str(next(self)) for i in range(n)))\n",
    "        \n",
    "        \n",
    "class FibonacciProgression(Progression):\n",
    "    def __init__(self, first=0, second=1):\n",
    "        # initialize base class\n",
    "        # start progression at first\n",
    "        super().__init__(first)\n",
    "        self._prev = second - first\n",
    "        \n",
    "    def _advance(self):\n",
    "        self._prev, self._current = self._current, self._current + self._prev"
   ]
  },
  {
   "cell_type": "code",
   "execution_count": 11,
   "metadata": {},
   "outputs": [
    {
     "name": "stdout",
     "output_type": "stream",
     "text": [
      "2 2 4 6 10 16 26 42\n"
     ]
    }
   ],
   "source": [
    "fib = FibonacciProgression(2, 2)\n",
    "fib.print_progression(8)"
   ]
  },
  {
   "cell_type": "markdown",
   "metadata": {},
   "source": [
    "### *R-2.19*\n",
    "When using the ArithmeticProgression class of Section 2.4.2 with an increment of 128 and a start of 0, how many calls to next can we make before we reach an integer of 2^63 or larger?"
   ]
  },
  {
   "cell_type": "code",
   "execution_count": 12,
   "metadata": {},
   "outputs": [
    {
     "data": {
      "text/plain": [
       "72057594037927936"
      ]
     },
     "execution_count": 12,
     "metadata": {},
     "output_type": "execute_result"
    }
   ],
   "source": [
    "steps = 2 ** (63 - 7)\n",
    "steps"
   ]
  },
  {
   "cell_type": "markdown",
   "metadata": {},
   "source": [
    "# Creativity"
   ]
  },
  {
   "cell_type": "markdown",
   "metadata": {},
   "source": [
    "### *C-2.26*\n",
    "The SequenceIterator class of Section 2.3.4 provides what is known as a forward iterator. Implement a class named ReversedSequenceIterator that serves as a reverse iterator for any Python sequence type. The first call to next should return the last element of the sequence, the second call to next should return the second-to-last element, and so forth."
   ]
  },
  {
   "cell_type": "code",
   "execution_count": 13,
   "metadata": {},
   "outputs": [],
   "source": [
    "class ReversedSequenceIterator:\n",
    "    def __init__(self, sequence):\n",
    "        self._seq = sequence\n",
    "        self._k = len(sequence)\n",
    "        \n",
    "    def __next__(self):\n",
    "        self._k -= 1\n",
    "        if self._k >= 0:\n",
    "            return self._seq[self._k]\n",
    "        else:\n",
    "            raise StopIteration\n",
    "            \n",
    "    def __iter__(self):\n",
    "        return self"
   ]
  },
  {
   "cell_type": "code",
   "execution_count": 14,
   "metadata": {},
   "outputs": [
    {
     "name": "stdout",
     "output_type": "stream",
     "text": [
      "5\n",
      "3\n",
      "1\n"
     ]
    }
   ],
   "source": [
    "rev_seq = ReversedSequenceIterator([1, 3, 5])\n",
    "\n",
    "for i in rev_seq:\n",
    "    print(i)"
   ]
  },
  {
   "cell_type": "markdown",
   "metadata": {},
   "source": [
    "### *C-2.31*\n",
    "Write a Python class that extends the Progression class so that each value in the progression is the absolute value of the difference between the previous two values. You should include a constructor that accepts a pair of numbers as the first two values, using 2 and 200 as the defaults."
   ]
  },
  {
   "cell_type": "code",
   "execution_count": 15,
   "metadata": {},
   "outputs": [],
   "source": [
    "class AbsdiffPrograssion(Progression):\n",
    "    def __init__(self, first=2, second=200):\n",
    "        super().__init__(first)\n",
    "        self._prev1 = None\n",
    "        self._prev2 = None\n",
    "        # for starting\n",
    "        self._second = second\n",
    "        self._count = 1\n",
    "\n",
    "    def _advance(self):\n",
    "        # for starting\n",
    "        if self._count == 1:\n",
    "            self._prev1 = self._current\n",
    "            self._current = self._second\n",
    "        else:\n",
    "            self._prev1, self._prev2 = self._current, self._prev1\n",
    "            self._current = abs(self._prev1 - self._prev2)\n",
    "        self._count += 1"
   ]
  },
  {
   "cell_type": "code",
   "execution_count": 16,
   "metadata": {},
   "outputs": [
    {
     "name": "stdout",
     "output_type": "stream",
     "text": [
      "2 200 198 2 196 194 2 192 190 2\n"
     ]
    }
   ],
   "source": [
    "t = AbsdiffPrograssion()\n",
    "t.print_progression(10)"
   ]
  },
  {
   "cell_type": "code",
   "execution_count": null,
   "metadata": {},
   "outputs": [],
   "source": []
  }
 ],
 "metadata": {
  "kernelspec": {
   "display_name": "Python 3",
   "language": "python",
   "name": "python3"
  },
  "language_info": {
   "codemirror_mode": {
    "name": "ipython",
    "version": 3
   },
   "file_extension": ".py",
   "mimetype": "text/x-python",
   "name": "python",
   "nbconvert_exporter": "python",
   "pygments_lexer": "ipython3",
   "version": "3.7.3"
  }
 },
 "nbformat": 4,
 "nbformat_minor": 2
}
