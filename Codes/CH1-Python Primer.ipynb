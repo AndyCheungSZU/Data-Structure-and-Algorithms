{
 "cells": [
  {
   "cell_type": "code",
   "execution_count": 1,
   "metadata": {},
   "outputs": [],
   "source": [
    "import re\n",
    "from typing import List, TypeVar, Tuple, Any, Generator\n",
    "from random import randrange, randint\n",
    "Num = TypeVar('Num', int, float)"
   ]
  },
  {
   "cell_type": "markdown",
   "metadata": {},
   "source": [
    "# Reinforcement"
   ]
  },
  {
   "cell_type": "markdown",
   "metadata": {},
   "source": [
    "### *R-1.1*\n",
    "Write a short Python function, is multiple(n, m), that takes two integer values and returns True if n is a multiple of m, that is, n = mi for some integer i, and False otherwise."
   ]
  },
  {
   "cell_type": "code",
   "execution_count": 2,
   "metadata": {},
   "outputs": [],
   "source": [
    "def is_multiple(n: int, m: int):\n",
    "    return True if n % m == 0 else False"
   ]
  },
  {
   "cell_type": "code",
   "execution_count": 3,
   "metadata": {},
   "outputs": [
    {
     "data": {
      "text/plain": [
       "(True, False)"
      ]
     },
     "execution_count": 3,
     "metadata": {},
     "output_type": "execute_result"
    }
   ],
   "source": [
    "is_multiple(4, 2), is_multiple(4, 3)"
   ]
  },
  {
   "cell_type": "markdown",
   "metadata": {},
   "source": [
    "### *R-1.2*\n",
    "Write a short Python function, is even(k), that takes an integer value and returns True if k is even, and False otherwise. However, your function cannot use the multiplication, modulo, or division operators."
   ]
  },
  {
   "cell_type": "code",
   "execution_count": 4,
   "metadata": {},
   "outputs": [],
   "source": [
    "def is_even(k: int):\n",
    "    return False if k & 1 else True"
   ]
  },
  {
   "cell_type": "code",
   "execution_count": 5,
   "metadata": {},
   "outputs": [
    {
     "data": {
      "text/plain": [
       "(False, True)"
      ]
     },
     "execution_count": 5,
     "metadata": {},
     "output_type": "execute_result"
    }
   ],
   "source": [
    "is_even(3), is_even(4)"
   ]
  },
  {
   "cell_type": "markdown",
   "metadata": {},
   "source": [
    "### *R-1.3*\n",
    "Write a short Python function, minmax(data), that takes a sequence of one or more numbers, and returns the smallest and largest numbers, in the form of a tuple of length two. Do not use the built-in functions min or max in implementing your solution."
   ]
  },
  {
   "cell_type": "code",
   "execution_count": 6,
   "metadata": {},
   "outputs": [],
   "source": [
    "def minmax(data: List[Num]) -> Tuple[Num, Num]:\n",
    "    min_num = max_num = data[0]\n",
    "    for num in data:\n",
    "        if num < min_num:\n",
    "            min_num = num\n",
    "        if num > max_num:\n",
    "            max_num = num\n",
    "    return min_num, max_num"
   ]
  },
  {
   "cell_type": "code",
   "execution_count": 7,
   "metadata": {},
   "outputs": [
    {
     "data": {
      "text/plain": [
       "(1, 999)"
      ]
     },
     "execution_count": 7,
     "metadata": {},
     "output_type": "execute_result"
    }
   ],
   "source": [
    "minmax([i for i in range(1, 1000)])"
   ]
  },
  {
   "cell_type": "markdown",
   "metadata": {},
   "source": [
    "### *R-1.4, R-1.5*\n",
    "1.4: Write a short Python function that takes a positive integer n and returns the sum of the squares of all the positive integers smaller than n.\n",
    "\n",
    "1.5: Give a single command that computes the sum from Exercise R-1.4, rely- ing on Python’s comprehension syntax and the built-in sum function."
   ]
  },
  {
   "cell_type": "code",
   "execution_count": 8,
   "metadata": {},
   "outputs": [],
   "source": [
    "def sum_sq(n: int):\n",
    "    return sum(i * i for i in range(1, n))"
   ]
  },
  {
   "cell_type": "code",
   "execution_count": 9,
   "metadata": {},
   "outputs": [
    {
     "data": {
      "text/plain": [
       "14"
      ]
     },
     "execution_count": 9,
     "metadata": {},
     "output_type": "execute_result"
    }
   ],
   "source": [
    "sum_sq(4)"
   ]
  },
  {
   "cell_type": "markdown",
   "metadata": {},
   "source": [
    "### *R-1.6, R-1.7*\n",
    "R-1.6: Write a short Python function that takes a positive integer n and returns the sum of the squares of all the odd positive integers smaller than n.\n",
    "\n",
    "R-1.7: Give a single command that computes the sum from Exercise R-1.6, rely- ing on Python’s comprehension syntax and the built-in sum function."
   ]
  },
  {
   "cell_type": "code",
   "execution_count": 10,
   "metadata": {},
   "outputs": [],
   "source": [
    "def sum_odd_eq(n: int) -> int:\n",
    "    return sum(i * i for i in range(1, n) if not is_even(i))"
   ]
  },
  {
   "cell_type": "code",
   "execution_count": 11,
   "metadata": {},
   "outputs": [
    {
     "data": {
      "text/plain": [
       "10"
      ]
     },
     "execution_count": 11,
     "metadata": {},
     "output_type": "execute_result"
    }
   ],
   "source": [
    "sum_odd_eq(4)"
   ]
  },
  {
   "cell_type": "markdown",
   "metadata": {},
   "source": [
    "### *R-1.8*\n",
    "Python allows negative integers to be used as indices into a sequence, such as a string. If string s has length n, and expression s[k] is used for in- dex −n ≤ k < 0, what is the equivalent index j ≥ 0 such that s[j] references the same element?"
   ]
  },
  {
   "cell_type": "code",
   "execution_count": 12,
   "metadata": {},
   "outputs": [
    {
     "data": {
      "text/plain": [
       "True"
      ]
     },
     "execution_count": 12,
     "metadata": {},
     "output_type": "execute_result"
    }
   ],
   "source": [
    "def check(data: str) -> bool:\n",
    "    n = len(data)\n",
    "    for j in range(n):\n",
    "        k = j - n\n",
    "        if data[j] != data[k]:\n",
    "            return False\n",
    "    return True\n",
    "\n",
    "check('hello')"
   ]
  },
  {
   "cell_type": "markdown",
   "metadata": {},
   "source": [
    "### *R-1.9*\n",
    "What parameters should be sent to the range constructor, to produce a range with values 50, 60, 70, 80?"
   ]
  },
  {
   "cell_type": "code",
   "execution_count": 13,
   "metadata": {},
   "outputs": [
    {
     "name": "stdout",
     "output_type": "stream",
     "text": [
      "[50, 60, 70, 80]\n"
     ]
    }
   ],
   "source": [
    "a = range(50, 90, 10)\n",
    "print(list(a))"
   ]
  },
  {
   "cell_type": "markdown",
   "metadata": {},
   "source": [
    "### *R-1.10*\n",
    "What parameters should be sent to the range constructor, to produce a range with values 8, 6, 4, 2, 0, −2, −4, −6, −8?"
   ]
  },
  {
   "cell_type": "code",
   "execution_count": 14,
   "metadata": {},
   "outputs": [
    {
     "name": "stdout",
     "output_type": "stream",
     "text": [
      "[8, 6, 4, 2, 0, -2, -4, -6, -8]\n"
     ]
    }
   ],
   "source": [
    "print(list(range(8, -10, -2)))"
   ]
  },
  {
   "cell_type": "markdown",
   "metadata": {},
   "source": [
    "### *R-1.11*\n",
    "Python’s random module includes a function choice(data) that returns a random element from a non-empty sequence. The random module includes a more basic function randrange, with parameterization similar to the built-in range function, that return a random choice from the given range. Using only the randrange function, implement your own version of the choice function."
   ]
  },
  {
   "cell_type": "code",
   "execution_count": 15,
   "metadata": {},
   "outputs": [],
   "source": [
    "def choice(data: List[Any]) -> Any:\n",
    "    return data[randrange(0, len(data))]"
   ]
  },
  {
   "cell_type": "code",
   "execution_count": 16,
   "metadata": {},
   "outputs": [
    {
     "data": {
      "text/plain": [
       "(2, 2, 4)"
      ]
     },
     "execution_count": 16,
     "metadata": {},
     "output_type": "execute_result"
    }
   ],
   "source": [
    "choice([1, 2, 3, 4]), choice([1, 2, 3, 4]), choice([1, 2, 3, 4])"
   ]
  },
  {
   "cell_type": "markdown",
   "metadata": {},
   "source": [
    "# Creativity"
   ]
  },
  {
   "cell_type": "markdown",
   "metadata": {},
   "source": [
    "### *C-1.13*\n",
    "Write a pseudo-code description of a function that reverses a list of n integers, so that the numbers are listed in the opposite order than they were before, and compare this method to an equivalent Python function for doing the same thing."
   ]
  },
  {
   "cell_type": "code",
   "execution_count": 17,
   "metadata": {},
   "outputs": [],
   "source": [
    "def reverse(data):\n",
    "    n = len(data)\n",
    "    return [data[i] for i in range(n-1, -1, -1)]"
   ]
  },
  {
   "cell_type": "code",
   "execution_count": 18,
   "metadata": {},
   "outputs": [
    {
     "data": {
      "text/plain": [
       "[4, 3, 2, 1]"
      ]
     },
     "execution_count": 18,
     "metadata": {},
     "output_type": "execute_result"
    }
   ],
   "source": [
    "reverse([1, 2, 3, 4])"
   ]
  },
  {
   "cell_type": "markdown",
   "metadata": {},
   "source": [
    "### *C-1.14*\n",
    "Write a short Python function that takes a sequence of integer values and determines if there is a distinct pair of numbers in the sequence whose product is odd."
   ]
  },
  {
   "cell_type": "code",
   "execution_count": 19,
   "metadata": {},
   "outputs": [],
   "source": [
    "def odd_pair(data):\n",
    "    odd_nums = {num for num in data if not is_even(num)}\n",
    "    return True if len(odd_nums)>=2 else False"
   ]
  },
  {
   "cell_type": "code",
   "execution_count": 20,
   "metadata": {},
   "outputs": [
    {
     "data": {
      "text/plain": [
       "(False, True)"
      ]
     },
     "execution_count": 20,
     "metadata": {},
     "output_type": "execute_result"
    }
   ],
   "source": [
    "odd_pair([2, 3, 3, 4]), odd_pair([2, 3, 3, 5])"
   ]
  },
  {
   "cell_type": "markdown",
   "metadata": {},
   "source": [
    "### *C-1.15*\n",
    "Write a Python function that takes a sequence of numbers and determines if all the numbers are different from each other (that is, they are distinct)."
   ]
  },
  {
   "cell_type": "code",
   "execution_count": 21,
   "metadata": {},
   "outputs": [],
   "source": [
    "def is_unique(data: List[Num]) -> bool:\n",
    "    return len(data) == len(set(data))"
   ]
  },
  {
   "cell_type": "code",
   "execution_count": 22,
   "metadata": {},
   "outputs": [
    {
     "data": {
      "text/plain": [
       "(True, False)"
      ]
     },
     "execution_count": 22,
     "metadata": {},
     "output_type": "execute_result"
    }
   ],
   "source": [
    "is_unique([1, 2, 3]), is_unique([1, 2, 3, 3])"
   ]
  },
  {
   "cell_type": "markdown",
   "metadata": {},
   "source": [
    "### *C-1.16*\n",
    "In our implementation of the scale function (page 25), the body of the loop executes the command data[j] = factor. We have discussed that numeric types are immutable, and that use of the = operator in this context causes the creation of a new instance (not the mutation of an existing instance).\n",
    "How is it still possible, then, that our implementation of scale changes the actual parameter sent by the caller?"
   ]
  },
  {
   "cell_type": "markdown",
   "metadata": {},
   "source": [
    "### *C-1.17*\n",
    "Had we implemented the scale function (page 25) as follows, does it work properly?"
   ]
  },
  {
   "cell_type": "markdown",
   "metadata": {},
   "source": [
    "### *C-1.18*\n",
    "Demonstrate how to use Python’s list comprehension syntax to produce the list [0, 2, 6, 12, 20, 30, 42, 56, 72, 90]."
   ]
  },
  {
   "cell_type": "code",
   "execution_count": 23,
   "metadata": {},
   "outputs": [
    {
     "name": "stdout",
     "output_type": "stream",
     "text": [
      "[0, 2, 6, 12, 20, 30, 42, 56, 72, 90]\n"
     ]
    }
   ],
   "source": [
    "print([n * (n+1) for n in range(0, 10)])"
   ]
  },
  {
   "cell_type": "markdown",
   "metadata": {},
   "source": [
    "### *C-1.19*\n",
    "Demonstrate how to use Python’s list comprehension syntax to produce the list [ a , b , c , ..., z ], but without having to type all 26 such characters literally."
   ]
  },
  {
   "cell_type": "code",
   "execution_count": 24,
   "metadata": {},
   "outputs": [
    {
     "name": "stdout",
     "output_type": "stream",
     "text": [
      "['a', 'b', 'c', 'd', 'e', 'f', 'g', 'h', 'i', 'j', 'k', 'l', 'm', 'n', 'o', 'p', 'q', 'r', 's', 't', 'u', 'v', 'w', 'x', 'y', 'z']\n"
     ]
    }
   ],
   "source": [
    "print([chr(ord('a')+i) for i in range(0, 26)])"
   ]
  },
  {
   "cell_type": "markdown",
   "metadata": {},
   "source": [
    "### *C-1.20*\n",
    "Write a Python program that repeatedly reads lines from standard input until an EOFError is raised, and then outputs those lines in reverse order (a user can indicate end of input by typing ctrl-D)."
   ]
  },
  {
   "cell_type": "code",
   "execution_count": 25,
   "metadata": {},
   "outputs": [],
   "source": [
    "def shuffle(data: List[Any]) -> None:\n",
    "    n = len(data)\n",
    "    for i in range(n-1, 0, -1):\n",
    "        j = randint(0, i-1)\n",
    "        data[i], data[j] = data[j], data[i]"
   ]
  },
  {
   "cell_type": "code",
   "execution_count": 26,
   "metadata": {},
   "outputs": [
    {
     "data": {
      "text/plain": [
       "[3, 1, 4, 2]"
      ]
     },
     "execution_count": 26,
     "metadata": {},
     "output_type": "execute_result"
    }
   ],
   "source": [
    "l1 = [1, 2, 3, 4]\n",
    "shuffle(l1)\n",
    "l1"
   ]
  },
  {
   "cell_type": "markdown",
   "metadata": {},
   "source": [
    "### *C-1.21*\n",
    "Write a Python program that repeatedly reads lines from standard input until an EOFError is raised, and then outputs those lines in reverse order (a user can indicate end of input by typing ctrl-D)."
   ]
  },
  {
   "cell_type": "code",
   "execution_count": 27,
   "metadata": {},
   "outputs": [],
   "source": [
    "def print_reverse() -> None:\n",
    "    lines = []\n",
    "    while 1:\n",
    "        try:\n",
    "            line = input(\"input something: \")\n",
    "        except EOFError:\n",
    "            break\n",
    "        lines.append(line)\n",
    "    print(\"\\n\")\n",
    "    for line in reversed(lines):\n",
    "        print(line)"
   ]
  },
  {
   "cell_type": "markdown",
   "metadata": {},
   "source": [
    "### *C-1.22*\n",
    "Write a short Python program that takes two arrays a and b of length n storing int values, and returns the dot product of a and b. That is, it returns an array c of length n such that c[i] = a[i]·b[i], for i = 0,...,n− 1."
   ]
  },
  {
   "cell_type": "code",
   "execution_count": 28,
   "metadata": {},
   "outputs": [],
   "source": [
    "def array_product(a: List[int], b: List[int]) -> List[int]:\n",
    "    return [i * j for i, j in zip(a, b)]"
   ]
  },
  {
   "cell_type": "code",
   "execution_count": 29,
   "metadata": {},
   "outputs": [
    {
     "data": {
      "text/plain": [
       "[2, 12, 30]"
      ]
     },
     "execution_count": 29,
     "metadata": {},
     "output_type": "execute_result"
    }
   ],
   "source": [
    "array_product([1, 3, 5], [2, 4, 6])"
   ]
  },
  {
   "cell_type": "markdown",
   "metadata": {},
   "source": [
    "### *C-1.23*\n",
    "Give an example of a Python code fragment that attempts to write an element to a list based on an index that may be out of bounds. If that index is out of bounds, the program should catch the exception that results, and print the following error message: “Don’t try buffer overflow attacks in Python!”"
   ]
  },
  {
   "cell_type": "code",
   "execution_count": 30,
   "metadata": {},
   "outputs": [
    {
     "name": "stdout",
     "output_type": "stream",
     "text": [
      "Don't try buffer overflow attacks in Python!\n"
     ]
    }
   ],
   "source": [
    "def chech_overflow():\n",
    "    data = [1, 2, 3]\n",
    "    try:\n",
    "        data[3] = 0\n",
    "    except IndexError:\n",
    "        print(\"Don't try buffer overflow attacks in Python!\")\n",
    "        \n",
    "chech_overflow()"
   ]
  },
  {
   "cell_type": "markdown",
   "metadata": {},
   "source": [
    "### *C-1.24*\n",
    "Write a short Python function that counts the number of vowels in a given character string."
   ]
  },
  {
   "cell_type": "code",
   "execution_count": 31,
   "metadata": {},
   "outputs": [],
   "source": [
    "def get_vowels(data):\n",
    "    vowels = 'aeiou'\n",
    "    return len([i for i in data.lower() if i in vowels])"
   ]
  },
  {
   "cell_type": "code",
   "execution_count": 32,
   "metadata": {},
   "outputs": [
    {
     "data": {
      "text/plain": [
       "3"
      ]
     },
     "execution_count": 32,
     "metadata": {},
     "output_type": "execute_result"
    }
   ],
   "source": [
    "get_vowels('hello python')"
   ]
  },
  {
   "cell_type": "markdown",
   "metadata": {},
   "source": [
    "### *C-1.25*\n",
    "Write a short Python function that takes a string s, representing a sentence, and returns a copy of the string with all punctuation removed. For exam- ple, if given the string \"Let s try, Mike.\", this function would return \"Let's try Mike\"."
   ]
  },
  {
   "cell_type": "code",
   "execution_count": 33,
   "metadata": {},
   "outputs": [],
   "source": [
    "def remove_punctuation(sentence):\n",
    "    removed = [char for char in sentence\n",
    "              if (ord('A') <= ord(char) <= ord('z')) or ord(char) == ord(' ')]\n",
    "    return ''.join(removed)"
   ]
  },
  {
   "cell_type": "code",
   "execution_count": 34,
   "metadata": {},
   "outputs": [
    {
     "data": {
      "text/plain": [
       "'Lets try Mike'"
      ]
     },
     "execution_count": 34,
     "metadata": {},
     "output_type": "execute_result"
    }
   ],
   "source": [
    "remove_punctuation(\"Let's try, Mike.\")"
   ]
  },
  {
   "cell_type": "markdown",
   "metadata": {},
   "source": [
    "### *C-1.26*\n",
    "Write a short program that takes as input three integers, a, b, and c, from the console and determines if they can be used in a correct arithmetic formula (in the given order), like “a + b = c,” “a = b − c,” or “a ∗ b = c.”"
   ]
  },
  {
   "cell_type": "code",
   "execution_count": 35,
   "metadata": {},
   "outputs": [],
   "source": [
    "def check_op_right():\n",
    "    nums = input(\"input int a, b, c: \")\n",
    "    operators='+-*/'\n",
    "    \n",
    "    # case 1: a = b op c\n",
    "    a, b_c_str = re.findall(r'(\\d+), (\\d+, \\d+)', nums)[0]\n",
    "    case1 = [int(a) == eval(b_c_str.replace(', ', op)) for op in operators]\n",
    "    result = sum(case1)\n",
    "    \n",
    "    # case 2: a op b = c\n",
    "    a_b_str, c = re.findall(r'(\\d+, \\d+), (\\d+)', nums)[0]\n",
    "    case2 = [int(c) == eval(a_b_str.replace(', ', op)) for op in operators]\n",
    "    result += sum(case2)\n",
    "    \n",
    "    return result > 0"
   ]
  },
  {
   "cell_type": "code",
   "execution_count": 36,
   "metadata": {},
   "outputs": [
    {
     "name": "stdout",
     "output_type": "stream",
     "text": [
      "input int a, b, c: 1, 2, 3\n",
      "input int a, b, c: 4, 5, 20\n"
     ]
    },
    {
     "data": {
      "text/plain": [
       "(True, True)"
      ]
     },
     "execution_count": 36,
     "metadata": {},
     "output_type": "execute_result"
    }
   ],
   "source": [
    "check_op_right(), check_op_right()"
   ]
  },
  {
   "cell_type": "markdown",
   "metadata": {},
   "source": [
    "### *C-1.27*\n",
    "In Section 1.8, we provided three different implementations of a generator that computes factors of a given integer. The third of those implementations, from page 41, was the most efficient, but we noted that it did not yield the factors in increasing order. Modify the generator so that it reports factors in increasing order, while maintaining its general performance advantages."
   ]
  },
  {
   "cell_type": "code",
   "execution_count": 37,
   "metadata": {},
   "outputs": [],
   "source": [
    "def factors(n):\n",
    "    k = 1\n",
    "    larger_factors = []\n",
    "    while k * k < n:\n",
    "        if n % k == 0:\n",
    "            yield k\n",
    "            larger_factors.append(n // k)\n",
    "        k += 1\n",
    "        \n",
    "    if k * k == n:\n",
    "        yield k\n",
    "        \n",
    "    for num in reversed(larger_factors):\n",
    "        yield num"
   ]
  },
  {
   "cell_type": "code",
   "execution_count": 38,
   "metadata": {},
   "outputs": [
    {
     "data": {
      "text/plain": [
       "[1, 2, 4, 5, 10, 20, 25, 50, 100]"
      ]
     },
     "execution_count": 38,
     "metadata": {},
     "output_type": "execute_result"
    }
   ],
   "source": [
    "list(factors(100))"
   ]
  },
  {
   "cell_type": "markdown",
   "metadata": {},
   "source": [
    "### *C-1.28*\n"
   ]
  },
  {
   "cell_type": "code",
   "execution_count": 39,
   "metadata": {},
   "outputs": [],
   "source": [
    "import numpy as np\n",
    "\n",
    "def norm(v,p=2):\n",
    "    v = np.array(v)\n",
    "    power = v**p\n",
    "    return power.sum()**(1/p)"
   ]
  },
  {
   "cell_type": "code",
   "execution_count": 40,
   "metadata": {},
   "outputs": [
    {
     "name": "stdout",
     "output_type": "stream",
     "text": [
      "norm(v,2): 5.0\n",
      "norm(v,3): 4.497941445275415\n"
     ]
    }
   ],
   "source": [
    "v = [4,3]\n",
    "print('norm(v,2):' , norm(v)) # Euclidean norm\n",
    "print('norm(v,3):' , norm(v, 3))"
   ]
  },
  {
   "cell_type": "markdown",
   "metadata": {},
   "source": [
    "# Project"
   ]
  },
  {
   "cell_type": "markdown",
   "metadata": {},
   "source": [
    "### *P-1.29*\n",
    "Write a Python program that outputs all possible strings formed by using the characters c , a , t , d , o , and g exactly once."
   ]
  },
  {
   "cell_type": "code",
   "execution_count": 41,
   "metadata": {},
   "outputs": [],
   "source": [
    "def add_char(char: str, string_list: List[str]):\n",
    "    return [char + string for string in string_list]\n",
    "\n",
    "def flatten_lists(lists: List[List[Any]]):\n",
    "    results = []\n",
    "    for l1 in lists:\n",
    "        results += l1\n",
    "    return results\n",
    "\n",
    "def permutation(chars: str) -> List[str]:\n",
    "    if len(chars) == 1:\n",
    "        return [chars]\n",
    "    return flatten_lists([add_char(chars[i], permutation(chars[:i] + chars[i+1: ]))\n",
    "                         for i in range(len(chars))])"
   ]
  },
  {
   "cell_type": "code",
   "execution_count": 42,
   "metadata": {},
   "outputs": [
    {
     "name": "stdout",
     "output_type": "stream",
     "text": [
      "['catdog', 'catdgo', 'catodg', 'catogd', 'catgdo', 'catgod', 'cadtog', 'cadtgo', 'cadotg', 'cadogt', 'cadgto', 'cadgot', 'caotdg', 'caotgd', 'caodtg', 'caodgt', 'caogtd', 'caogdt', 'cagtdo', 'cagtod', 'cagdto', 'cagdot', 'cagotd', 'cagodt', 'ctadog', 'ctadgo', 'ctaodg', 'ctaogd', 'ctagdo', 'ctagod', 'ctdaog', 'ctdago', 'ctdoag', 'ctdoga', 'ctdgao', 'ctdgoa', 'ctoadg', 'ctoagd', 'ctodag', 'ctodga', 'ctogad', 'ctogda', 'ctgado', 'ctgaod', 'ctgdao', 'ctgdoa', 'ctgoad', 'ctgoda', 'cdatog', 'cdatgo', 'cdaotg', 'cdaogt', 'cdagto', 'cdagot', 'cdtaog', 'cdtago', 'cdtoag', 'cdtoga', 'cdtgao', 'cdtgoa', 'cdoatg', 'cdoagt', 'cdotag', 'cdotga', 'cdogat', 'cdogta', 'cdgato', 'cdgaot', 'cdgtao', 'cdgtoa', 'cdgoat', 'cdgota', 'coatdg', 'coatgd', 'coadtg', 'coadgt', 'coagtd', 'coagdt', 'cotadg', 'cotagd', 'cotdag', 'cotdga', 'cotgad', 'cotgda', 'codatg', 'codagt', 'codtag', 'codtga', 'codgat', 'codgta', 'cogatd', 'cogadt', 'cogtad', 'cogtda', 'cogdat', 'cogdta', 'cgatdo', 'cgatod', 'cgadto', 'cgadot', 'cgaotd', 'cgaodt', 'cgtado', 'cgtaod', 'cgtdao', 'cgtdoa', 'cgtoad', 'cgtoda', 'cgdato', 'cgdaot', 'cgdtao', 'cgdtoa', 'cgdoat', 'cgdota', 'cgoatd', 'cgoadt', 'cgotad', 'cgotda', 'cgodat', 'cgodta', 'actdog', 'actdgo', 'actodg', 'actogd', 'actgdo', 'actgod', 'acdtog', 'acdtgo', 'acdotg', 'acdogt', 'acdgto', 'acdgot', 'acotdg', 'acotgd', 'acodtg', 'acodgt', 'acogtd', 'acogdt', 'acgtdo', 'acgtod', 'acgdto', 'acgdot', 'acgotd', 'acgodt', 'atcdog', 'atcdgo', 'atcodg', 'atcogd', 'atcgdo', 'atcgod', 'atdcog', 'atdcgo', 'atdocg', 'atdogc', 'atdgco', 'atdgoc', 'atocdg', 'atocgd', 'atodcg', 'atodgc', 'atogcd', 'atogdc', 'atgcdo', 'atgcod', 'atgdco', 'atgdoc', 'atgocd', 'atgodc', 'adctog', 'adctgo', 'adcotg', 'adcogt', 'adcgto', 'adcgot', 'adtcog', 'adtcgo', 'adtocg', 'adtogc', 'adtgco', 'adtgoc', 'adoctg', 'adocgt', 'adotcg', 'adotgc', 'adogct', 'adogtc', 'adgcto', 'adgcot', 'adgtco', 'adgtoc', 'adgoct', 'adgotc', 'aoctdg', 'aoctgd', 'aocdtg', 'aocdgt', 'aocgtd', 'aocgdt', 'aotcdg', 'aotcgd', 'aotdcg', 'aotdgc', 'aotgcd', 'aotgdc', 'aodctg', 'aodcgt', 'aodtcg', 'aodtgc', 'aodgct', 'aodgtc', 'aogctd', 'aogcdt', 'aogtcd', 'aogtdc', 'aogdct', 'aogdtc', 'agctdo', 'agctod', 'agcdto', 'agcdot', 'agcotd', 'agcodt', 'agtcdo', 'agtcod', 'agtdco', 'agtdoc', 'agtocd', 'agtodc', 'agdcto', 'agdcot', 'agdtco', 'agdtoc', 'agdoct', 'agdotc', 'agoctd', 'agocdt', 'agotcd', 'agotdc', 'agodct', 'agodtc', 'tcadog', 'tcadgo', 'tcaodg', 'tcaogd', 'tcagdo', 'tcagod', 'tcdaog', 'tcdago', 'tcdoag', 'tcdoga', 'tcdgao', 'tcdgoa', 'tcoadg', 'tcoagd', 'tcodag', 'tcodga', 'tcogad', 'tcogda', 'tcgado', 'tcgaod', 'tcgdao', 'tcgdoa', 'tcgoad', 'tcgoda', 'tacdog', 'tacdgo', 'tacodg', 'tacogd', 'tacgdo', 'tacgod', 'tadcog', 'tadcgo', 'tadocg', 'tadogc', 'tadgco', 'tadgoc', 'taocdg', 'taocgd', 'taodcg', 'taodgc', 'taogcd', 'taogdc', 'tagcdo', 'tagcod', 'tagdco', 'tagdoc', 'tagocd', 'tagodc', 'tdcaog', 'tdcago', 'tdcoag', 'tdcoga', 'tdcgao', 'tdcgoa', 'tdacog', 'tdacgo', 'tdaocg', 'tdaogc', 'tdagco', 'tdagoc', 'tdocag', 'tdocga', 'tdoacg', 'tdoagc', 'tdogca', 'tdogac', 'tdgcao', 'tdgcoa', 'tdgaco', 'tdgaoc', 'tdgoca', 'tdgoac', 'tocadg', 'tocagd', 'tocdag', 'tocdga', 'tocgad', 'tocgda', 'toacdg', 'toacgd', 'toadcg', 'toadgc', 'toagcd', 'toagdc', 'todcag', 'todcga', 'todacg', 'todagc', 'todgca', 'todgac', 'togcad', 'togcda', 'togacd', 'togadc', 'togdca', 'togdac', 'tgcado', 'tgcaod', 'tgcdao', 'tgcdoa', 'tgcoad', 'tgcoda', 'tgacdo', 'tgacod', 'tgadco', 'tgadoc', 'tgaocd', 'tgaodc', 'tgdcao', 'tgdcoa', 'tgdaco', 'tgdaoc', 'tgdoca', 'tgdoac', 'tgocad', 'tgocda', 'tgoacd', 'tgoadc', 'tgodca', 'tgodac', 'dcatog', 'dcatgo', 'dcaotg', 'dcaogt', 'dcagto', 'dcagot', 'dctaog', 'dctago', 'dctoag', 'dctoga', 'dctgao', 'dctgoa', 'dcoatg', 'dcoagt', 'dcotag', 'dcotga', 'dcogat', 'dcogta', 'dcgato', 'dcgaot', 'dcgtao', 'dcgtoa', 'dcgoat', 'dcgota', 'dactog', 'dactgo', 'dacotg', 'dacogt', 'dacgto', 'dacgot', 'datcog', 'datcgo', 'datocg', 'datogc', 'datgco', 'datgoc', 'daoctg', 'daocgt', 'daotcg', 'daotgc', 'daogct', 'daogtc', 'dagcto', 'dagcot', 'dagtco', 'dagtoc', 'dagoct', 'dagotc', 'dtcaog', 'dtcago', 'dtcoag', 'dtcoga', 'dtcgao', 'dtcgoa', 'dtacog', 'dtacgo', 'dtaocg', 'dtaogc', 'dtagco', 'dtagoc', 'dtocag', 'dtocga', 'dtoacg', 'dtoagc', 'dtogca', 'dtogac', 'dtgcao', 'dtgcoa', 'dtgaco', 'dtgaoc', 'dtgoca', 'dtgoac', 'docatg', 'docagt', 'doctag', 'doctga', 'docgat', 'docgta', 'doactg', 'doacgt', 'doatcg', 'doatgc', 'doagct', 'doagtc', 'dotcag', 'dotcga', 'dotacg', 'dotagc', 'dotgca', 'dotgac', 'dogcat', 'dogcta', 'dogact', 'dogatc', 'dogtca', 'dogtac', 'dgcato', 'dgcaot', 'dgctao', 'dgctoa', 'dgcoat', 'dgcota', 'dgacto', 'dgacot', 'dgatco', 'dgatoc', 'dgaoct', 'dgaotc', 'dgtcao', 'dgtcoa', 'dgtaco', 'dgtaoc', 'dgtoca', 'dgtoac', 'dgocat', 'dgocta', 'dgoact', 'dgoatc', 'dgotca', 'dgotac', 'ocatdg', 'ocatgd', 'ocadtg', 'ocadgt', 'ocagtd', 'ocagdt', 'octadg', 'octagd', 'octdag', 'octdga', 'octgad', 'octgda', 'ocdatg', 'ocdagt', 'ocdtag', 'ocdtga', 'ocdgat', 'ocdgta', 'ocgatd', 'ocgadt', 'ocgtad', 'ocgtda', 'ocgdat', 'ocgdta', 'oactdg', 'oactgd', 'oacdtg', 'oacdgt', 'oacgtd', 'oacgdt', 'oatcdg', 'oatcgd', 'oatdcg', 'oatdgc', 'oatgcd', 'oatgdc', 'oadctg', 'oadcgt', 'oadtcg', 'oadtgc', 'oadgct', 'oadgtc', 'oagctd', 'oagcdt', 'oagtcd', 'oagtdc', 'oagdct', 'oagdtc', 'otcadg', 'otcagd', 'otcdag', 'otcdga', 'otcgad', 'otcgda', 'otacdg', 'otacgd', 'otadcg', 'otadgc', 'otagcd', 'otagdc', 'otdcag', 'otdcga', 'otdacg', 'otdagc', 'otdgca', 'otdgac', 'otgcad', 'otgcda', 'otgacd', 'otgadc', 'otgdca', 'otgdac', 'odcatg', 'odcagt', 'odctag', 'odctga', 'odcgat', 'odcgta', 'odactg', 'odacgt', 'odatcg', 'odatgc', 'odagct', 'odagtc', 'odtcag', 'odtcga', 'odtacg', 'odtagc', 'odtgca', 'odtgac', 'odgcat', 'odgcta', 'odgact', 'odgatc', 'odgtca', 'odgtac', 'ogcatd', 'ogcadt', 'ogctad', 'ogctda', 'ogcdat', 'ogcdta', 'ogactd', 'ogacdt', 'ogatcd', 'ogatdc', 'ogadct', 'ogadtc', 'ogtcad', 'ogtcda', 'ogtacd', 'ogtadc', 'ogtdca', 'ogtdac', 'ogdcat', 'ogdcta', 'ogdact', 'ogdatc', 'ogdtca', 'ogdtac', 'gcatdo', 'gcatod', 'gcadto', 'gcadot', 'gcaotd', 'gcaodt', 'gctado', 'gctaod', 'gctdao', 'gctdoa', 'gctoad', 'gctoda', 'gcdato', 'gcdaot', 'gcdtao', 'gcdtoa', 'gcdoat', 'gcdota', 'gcoatd', 'gcoadt', 'gcotad', 'gcotda', 'gcodat', 'gcodta', 'gactdo', 'gactod', 'gacdto', 'gacdot', 'gacotd', 'gacodt', 'gatcdo', 'gatcod', 'gatdco', 'gatdoc', 'gatocd', 'gatodc', 'gadcto', 'gadcot', 'gadtco', 'gadtoc', 'gadoct', 'gadotc', 'gaoctd', 'gaocdt', 'gaotcd', 'gaotdc', 'gaodct', 'gaodtc', 'gtcado', 'gtcaod', 'gtcdao', 'gtcdoa', 'gtcoad', 'gtcoda', 'gtacdo', 'gtacod', 'gtadco', 'gtadoc', 'gtaocd', 'gtaodc', 'gtdcao', 'gtdcoa', 'gtdaco', 'gtdaoc', 'gtdoca', 'gtdoac', 'gtocad', 'gtocda', 'gtoacd', 'gtoadc', 'gtodca', 'gtodac', 'gdcato', 'gdcaot', 'gdctao', 'gdctoa', 'gdcoat', 'gdcota', 'gdacto', 'gdacot', 'gdatco', 'gdatoc', 'gdaoct', 'gdaotc', 'gdtcao', 'gdtcoa', 'gdtaco', 'gdtaoc', 'gdtoca', 'gdtoac', 'gdocat', 'gdocta', 'gdoact', 'gdoatc', 'gdotca', 'gdotac', 'gocatd', 'gocadt', 'goctad', 'goctda', 'gocdat', 'gocdta', 'goactd', 'goacdt', 'goatcd', 'goatdc', 'goadct', 'goadtc', 'gotcad', 'gotcda', 'gotacd', 'gotadc', 'gotdca', 'gotdac', 'godcat', 'godcta', 'godact', 'godatc', 'godtca', 'godtac'] \n",
      " 720\n"
     ]
    }
   ],
   "source": [
    "# 6! = 720\n",
    "print(permutation('catdog'), '\\n', len(permutation('catdog')))"
   ]
  },
  {
   "cell_type": "markdown",
   "metadata": {},
   "source": [
    "### *P-1.30*\n",
    "Write a Python program that can take a positive integer greater than 2 as input and write out the number of times one must repeatedly divide this number by 2 before getting a value less than 2."
   ]
  },
  {
   "cell_type": "code",
   "execution_count": 43,
   "metadata": {},
   "outputs": [],
   "source": [
    "def my_log(n):\n",
    "    if n < 2:\n",
    "        return 0\n",
    "    elif n < 4:\n",
    "        return 1\n",
    "    return 1 + my_log(n/2)"
   ]
  },
  {
   "cell_type": "code",
   "execution_count": 44,
   "metadata": {},
   "outputs": [
    {
     "data": {
      "text/plain": [
       "(3, 2)"
      ]
     },
     "execution_count": 44,
     "metadata": {},
     "output_type": "execute_result"
    }
   ],
   "source": [
    "my_log(8), my_log(7.5)"
   ]
  },
  {
   "cell_type": "markdown",
   "metadata": {},
   "source": [
    "### *P-1.35*\n",
    "The **birthday paradox** says that the probability that two people in a room will have the same birthday is more than half, provided n, the number of people in the room, is more than 23. This property is not really a paradox, but many people find it surprising. Design a Python program that can test this paradox by a series of experiments on randomly generated birthdays, which test this paradox for n = 5,10,15,20,... ,100."
   ]
  },
  {
   "cell_type": "code",
   "execution_count": 45,
   "metadata": {},
   "outputs": [],
   "source": [
    "def factorial(n):\n",
    "    if n == 1:\n",
    "        return n\n",
    "    elif n < 1:\n",
    "        return (\"NA\")\n",
    "    else:\n",
    "        return n*factorial(n-1)\n",
    "\n",
    "def same_birth_prob(n):\n",
    "    from scipy.special import comb\n",
    "    return 1 - factorial(n) * comb(365, n) / (365**n)"
   ]
  },
  {
   "cell_type": "code",
   "execution_count": 46,
   "metadata": {},
   "outputs": [
    {
     "name": "stdout",
     "output_type": "stream",
     "text": [
      "the numer of people n = 5 \n",
      "the probability that two people in a room will have the same birthday: p = 0.027136 \n",
      "\n",
      "the numer of people n = 10 \n",
      "the probability that two people in a room will have the same birthday: p = 0.116948 \n",
      "\n",
      "the numer of people n = 15 \n",
      "the probability that two people in a room will have the same birthday: p = 0.252901 \n",
      "\n",
      "the numer of people n = 20 \n",
      "the probability that two people in a room will have the same birthday: p = 0.411438 \n",
      "\n",
      "the numer of people n = 25 \n",
      "the probability that two people in a room will have the same birthday: p = 0.568700 \n",
      "\n",
      "the numer of people n = 30 \n",
      "the probability that two people in a room will have the same birthday: p = 0.706316 \n",
      "\n",
      "the numer of people n = 35 \n",
      "the probability that two people in a room will have the same birthday: p = 0.814383 \n",
      "\n",
      "the numer of people n = 40 \n",
      "the probability that two people in a room will have the same birthday: p = 0.891232 \n",
      "\n",
      "the numer of people n = 45 \n",
      "the probability that two people in a room will have the same birthday: p = 0.940976 \n",
      "\n",
      "the numer of people n = 50 \n",
      "the probability that two people in a room will have the same birthday: p = 0.970374 \n",
      "\n",
      "the numer of people n = 55 \n",
      "the probability that two people in a room will have the same birthday: p = 0.986262 \n",
      "\n",
      "the numer of people n = 60 \n",
      "the probability that two people in a room will have the same birthday: p = 0.994123 \n",
      "\n",
      "the numer of people n = 65 \n",
      "the probability that two people in a room will have the same birthday: p = 0.997683 \n",
      "\n",
      "the numer of people n = 70 \n",
      "the probability that two people in a room will have the same birthday: p = 0.999160 \n",
      "\n",
      "the numer of people n = 75 \n",
      "the probability that two people in a room will have the same birthday: p = 0.999720 \n",
      "\n",
      "the numer of people n = 80 \n",
      "the probability that two people in a room will have the same birthday: p = 0.999914 \n",
      "\n",
      "the numer of people n = 85 \n",
      "the probability that two people in a room will have the same birthday: p = 0.999976 \n",
      "\n",
      "the numer of people n = 90 \n",
      "the probability that two people in a room will have the same birthday: p = 0.999994 \n",
      "\n",
      "the numer of people n = 95 \n",
      "the probability that two people in a room will have the same birthday: p = 0.999999 \n",
      "\n",
      "the numer of people n = 100 \n",
      "the probability that two people in a room will have the same birthday: p = 1.000000 \n",
      "\n"
     ]
    }
   ],
   "source": [
    "for i in range(5, 105, 5):\n",
    "    print(\"the numer of people n = %d\" % (i), '\\n'\n",
    "          \"the probability that two people in a room will have the same birthday: p = %f\" %(same_birth_prob(i)), '\\n')"
   ]
  },
  {
   "cell_type": "code",
   "execution_count": 47,
   "metadata": {},
   "outputs": [
    {
     "data": {
      "text/plain": [
       "[<matplotlib.lines.Line2D at 0x7fd7f612e518>]"
      ]
     },
     "execution_count": 47,
     "metadata": {},
     "output_type": "execute_result"
    },
    {
     "data": {
      "image/png": "[encoded data removed]",
      "text/plain": [
       "<Figure size 432x288 with 1 Axes>"
      ]
     },
     "metadata": {
      "needs_background": "light"
     },
     "output_type": "display_data"
    }
   ],
   "source": [
    "birth_prob = [same_birth_prob(i) for i in range(1,100)]\n",
    "\n",
    "import matplotlib.pyplot as plt\n",
    "%matplotlib inline\n",
    "\n",
    "plt.figure()\n",
    "plt.grid()\n",
    "plt.xlabel('Number of People')\n",
    "plt.ylabel('Probability of having same birthday')\n",
    "plt.title('Birthday Paradox')\n",
    "plt.plot(birth_prob)"
   ]
  },
  {
   "cell_type": "markdown",
   "metadata": {},
   "source": [
    "### *P-1.36*\n",
    "Write a Python program that inputs a list of words, separated by white- space, and outputs how many times each word appears in the list. You need not worry about efficiency at this point, however, as this topic is something that will be addressed later in this book."
   ]
  },
  {
   "cell_type": "code",
   "execution_count": 48,
   "metadata": {},
   "outputs": [
    {
     "data": {
      "text/plain": [
       "Counter({'look': 4,\n",
       "         'into': 3,\n",
       "         'my': 3,\n",
       "         'eyes': 8,\n",
       "         'the': 5,\n",
       "         'not': 1,\n",
       "         'around': 2,\n",
       "         \"don't\": 1,\n",
       "         \"you're\": 1,\n",
       "         'under': 1})"
      ]
     },
     "execution_count": 48,
     "metadata": {},
     "output_type": "execute_result"
    }
   ],
   "source": [
    "words = [\n",
    "    'look', 'into', 'my', 'eyes', 'look', 'into', 'my', 'eyes',\n",
    "    'the', 'eyes', 'the', 'eyes', 'the', 'eyes', 'not', 'around', 'the',\n",
    "    'eyes', \"don't\", 'look', 'around', 'the', 'eyes', 'look', 'into',\n",
    "    'my', 'eyes', \"you're\", 'under'\n",
    "]\n",
    "\n",
    "from collections import Counter\n",
    "word_counts = Counter(words)\n",
    "word_counts"
   ]
  },
  {
   "cell_type": "code",
   "execution_count": null,
   "metadata": {},
   "outputs": [],
   "source": []
  }
 ],
 "metadata": {
  "kernelspec": {
   "display_name": "Python 3",
   "language": "python",
   "name": "python3"
  },
  "language_info": {
   "codemirror_mode": {
    "name": "ipython",
    "version": 3
   },
   "file_extension": ".py",
   "mimetype": "text/x-python",
   "name": "python",
   "nbconvert_exporter": "python",
   "pygments_lexer": "ipython3",
   "version": "3.7.3"
  }
 },
 "nbformat": 4,
 "nbformat_minor": 4
}
